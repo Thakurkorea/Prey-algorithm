{
  "nbformat": 4,
  "nbformat_minor": 0,
  "metadata": {
    "colab": {
      "provenance": []
    },
    "kernelspec": {
      "name": "python3",
      "display_name": "Python 3"
    },
    "language_info": {
      "name": "python"
    }
  },
  "cells": [
    {
      "cell_type": "code",
      "execution_count": 1,
      "metadata": {
        "colab": {
          "base_uri": "https://localhost:8080/"
        },
        "id": "y2uX4t6Ynvum",
        "outputId": "23c6f364-fcb0-48d3-edf4-626b68a0dc83"
      },
      "outputs": [
        {
          "output_type": "stream",
          "name": "stdout",
          "text": [
            "Best position: [-0.08646159  0.32490289]\n",
            "Best fitness: 99.88696250603927\n"
          ]
        }
      ],
      "source": [
        "import numpy as np\n",
        "\n",
        "def objective_function(position):\n",
        "    # Example objective function (higher values are better, representing better food sources)\n",
        "    return -np.sum(position**2) + 100\n",
        "\n",
        "class Prey:\n",
        "    def __init__(self, position, resident):\n",
        "        self.position = position\n",
        "        self.resident = resident\n",
        "        self.fitness = objective_function(position)\n",
        "\n",
        "def prey_behavior_algorithm(obj_func, swarm_size=10, dimensions=2, iterations=50, lower_bound=-10, upper_bound=10):\n",
        "    # Initialize the swarm of prey\n",
        "    swarm = [Prey(np.random.uniform(lower_bound, upper_bound, dimensions),\n",
        "                  np.random.uniform(lower_bound, upper_bound, dimensions)) for _ in range(swarm_size)]\n",
        "\n",
        "    global_best_position = max(swarm, key=lambda prey: prey.fitness).position\n",
        "\n",
        "    for iteration in range(iterations):\n",
        "        for prey in swarm:\n",
        "            # Detect disturbances: Simulate disturbances with some probability\n",
        "            disturbance_detected = np.random.rand() < 0.3  # 30% chance to detect disturbance\n",
        "\n",
        "            if disturbance_detected:\n",
        "                # If disturbance is detected, move quickly to a random position to \"hide\"\n",
        "                prey.position += np.random.uniform(-1, 1, dimensions) * (upper_bound - lower_bound) * 0.1\n",
        "            else:\n",
        "                # If no disturbance, enjoy the best fooding place (exploit the best position found)\n",
        "                prey.position += np.random.uniform(-1, 1, dimensions) * (global_best_position - prey.position) * 0.1\n",
        "\n",
        "            # Bound the prey's position within the search space\n",
        "            prey.position = np.clip(prey.position, lower_bound, upper_bound)\n",
        "            prey.fitness = obj_func(prey.position)\n",
        "\n",
        "            # Update global best position\n",
        "            if prey.fitness > objective_function(global_best_position):\n",
        "                global_best_position = prey.position\n",
        "\n",
        "        # Return to resident place every few iterations (e.g., every 10 iterations)\n",
        "        if iteration % 10 == 0:\n",
        "            for prey in swarm:\n",
        "                prey.position = prey.resident\n",
        "                prey.fitness = obj_func(prey.position)\n",
        "\n",
        "    return global_best_position, objective_function(global_best_position)\n",
        "\n",
        "# Example usage:\n",
        "best_position, best_fitness = prey_behavior_algorithm(objective_function, swarm_size=10, dimensions=2, iterations=50)\n",
        "print(f\"Best position: {best_position}\")\n",
        "print(f\"Best fitness: {best_fitness}\")\n"
      ]
    }
  ]
}